{
 "cells": [
  {
   "cell_type": "code",
   "execution_count": 63,
   "metadata": {},
   "outputs": [],
   "source": [
    "import statsmodels.formula.api as sm\n",
    "import pandas as pd\n",
    "import numpy as np\n",
    "import matplotlib.pyplot as plt\n",
    "from statsmodels.tools.eval_measures import mse\n",
    "% matplotlib inline"
   ]
  },
  {
   "cell_type": "markdown",
   "metadata": {},
   "source": [
    "## Read in the data, set index, re-code categoricals"
   ]
  },
  {
   "cell_type": "code",
   "execution_count": 45,
   "metadata": {},
   "outputs": [],
   "source": [
    "data = pd.read_csv(\"spotify_data.csv\")\n",
    "data.index.name = \"id\"\n",
    "key_map = {0:\"C\", 1:\"Csharp\", 2:\"D\", 3:\"Dsharp\", 4:\"E\", 5:\"F\", 6:\"Fsharp\", 7:\"G\", 8:\"Gsharp\", 9:\"A\", 10:\"Asharp\", 11:\"B\"}\n",
    "data.key = data.key.apply(lambda x: key_map[x])\n",
    "data = pd.concat([data, pd.get_dummies(data[\"key\"], prefix=\"key\")], axis=1)\n",
    "Y = data[\"popularity\"]\n",
    "data.drop([\"Unnamed: 0\", \"key\", \"release_date\", \"song\", \"artist\"], axis=1, inplace=True)\n",
    "data.head()\n",
    "feature_names = list(data.columns)\n",
    "feature_names.remove(\"popularity\")"
   ]
  },
  {
   "cell_type": "markdown",
   "metadata": {},
   "source": [
    "## Run multiple linear regression with every feature and predict, gather MSE"
   ]
  },
  {
   "cell_type": "code",
   "execution_count": 67,
   "metadata": {},
   "outputs": [
    {
     "data": {
      "text/plain": [
       "0.18049552961580118"
      ]
     },
     "execution_count": 67,
     "metadata": {},
     "output_type": "execute_result"
    }
   ],
   "source": [
    "fitted = sm.ols(formula=\"popularity ~ \" + \"+\".join(feature_names), data=data).fit()\n",
    "fitted.rsquared"
   ]
  },
  {
   "cell_type": "code",
   "execution_count": 47,
   "metadata": {},
   "outputs": [
    {
     "data": {
      "text/html": [
       "<div>\n",
       "<table border=\"1\" class=\"dataframe\">\n",
       "  <thead>\n",
       "    <tr style=\"text-align: right;\">\n",
       "      <th></th>\n",
       "      <th>coeff</th>\n",
       "      <th>pvalue</th>\n",
       "    </tr>\n",
       "  </thead>\n",
       "  <tbody>\n",
       "    <tr>\n",
       "      <th>Intercept</th>\n",
       "      <td>51.954032</td>\n",
       "      <td>3.576070e-79</td>\n",
       "    </tr>\n",
       "    <tr>\n",
       "      <th>artist_followers</th>\n",
       "      <td>0.000003</td>\n",
       "      <td>6.886614e-167</td>\n",
       "    </tr>\n",
       "    <tr>\n",
       "      <th>acousticness</th>\n",
       "      <td>-4.967214</td>\n",
       "      <td>1.028130e-06</td>\n",
       "    </tr>\n",
       "    <tr>\n",
       "      <th>danceability</th>\n",
       "      <td>14.242834</td>\n",
       "      <td>3.684633e-18</td>\n",
       "    </tr>\n",
       "    <tr>\n",
       "      <th>duration_ms</th>\n",
       "      <td>-0.000010</td>\n",
       "      <td>1.407517e-04</td>\n",
       "    </tr>\n",
       "    <tr>\n",
       "      <th>energy</th>\n",
       "      <td>-10.906705</td>\n",
       "      <td>1.887625e-09</td>\n",
       "    </tr>\n",
       "    <tr>\n",
       "      <th>instrumentalness</th>\n",
       "      <td>-2.587740</td>\n",
       "      <td>1.449832e-02</td>\n",
       "    </tr>\n",
       "    <tr>\n",
       "      <th>liveness</th>\n",
       "      <td>-5.852998</td>\n",
       "      <td>7.386359e-06</td>\n",
       "    </tr>\n",
       "    <tr>\n",
       "      <th>loudness</th>\n",
       "      <td>1.038017</td>\n",
       "      <td>1.101211e-36</td>\n",
       "    </tr>\n",
       "    <tr>\n",
       "      <th>mode</th>\n",
       "      <td>-1.448762</td>\n",
       "      <td>2.987842e-03</td>\n",
       "    </tr>\n",
       "    <tr>\n",
       "      <th>speechiness</th>\n",
       "      <td>0.673322</td>\n",
       "      <td>7.812130e-01</td>\n",
       "    </tr>\n",
       "    <tr>\n",
       "      <th>tempo</th>\n",
       "      <td>-0.013219</td>\n",
       "      <td>7.482599e-02</td>\n",
       "    </tr>\n",
       "    <tr>\n",
       "      <th>time_signature</th>\n",
       "      <td>0.166072</td>\n",
       "      <td>7.550759e-01</td>\n",
       "    </tr>\n",
       "    <tr>\n",
       "      <th>valence</th>\n",
       "      <td>-8.030297</td>\n",
       "      <td>2.235078e-13</td>\n",
       "    </tr>\n",
       "    <tr>\n",
       "      <th>key_A</th>\n",
       "      <td>3.045304</td>\n",
       "      <td>4.340746e-06</td>\n",
       "    </tr>\n",
       "    <tr>\n",
       "      <th>key_Asharp</th>\n",
       "      <td>5.126469</td>\n",
       "      <td>5.114647e-10</td>\n",
       "    </tr>\n",
       "    <tr>\n",
       "      <th>key_B</th>\n",
       "      <td>4.498215</td>\n",
       "      <td>1.030537e-08</td>\n",
       "    </tr>\n",
       "    <tr>\n",
       "      <th>key_C</th>\n",
       "      <td>4.669136</td>\n",
       "      <td>8.578103e-14</td>\n",
       "    </tr>\n",
       "    <tr>\n",
       "      <th>key_Csharp</th>\n",
       "      <td>5.598888</td>\n",
       "      <td>4.564473e-14</td>\n",
       "    </tr>\n",
       "    <tr>\n",
       "      <th>key_D</th>\n",
       "      <td>2.184844</td>\n",
       "      <td>1.310645e-03</td>\n",
       "    </tr>\n",
       "    <tr>\n",
       "      <th>key_Dsharp</th>\n",
       "      <td>5.296269</td>\n",
       "      <td>1.050603e-06</td>\n",
       "    </tr>\n",
       "    <tr>\n",
       "      <th>key_E</th>\n",
       "      <td>4.442073</td>\n",
       "      <td>3.673552e-09</td>\n",
       "    </tr>\n",
       "    <tr>\n",
       "      <th>key_F</th>\n",
       "      <td>3.864873</td>\n",
       "      <td>9.640060e-08</td>\n",
       "    </tr>\n",
       "    <tr>\n",
       "      <th>key_Fsharp</th>\n",
       "      <td>7.589116</td>\n",
       "      <td>4.515792e-18</td>\n",
       "    </tr>\n",
       "    <tr>\n",
       "      <th>key_G</th>\n",
       "      <td>1.843513</td>\n",
       "      <td>4.393665e-03</td>\n",
       "    </tr>\n",
       "    <tr>\n",
       "      <th>key_Gsharp</th>\n",
       "      <td>3.795330</td>\n",
       "      <td>1.359320e-05</td>\n",
       "    </tr>\n",
       "  </tbody>\n",
       "</table>\n",
       "</div>"
      ],
      "text/plain": [
       "                      coeff         pvalue\n",
       "Intercept         51.954032   3.576070e-79\n",
       "artist_followers   0.000003  6.886614e-167\n",
       "acousticness      -4.967214   1.028130e-06\n",
       "danceability      14.242834   3.684633e-18\n",
       "duration_ms       -0.000010   1.407517e-04\n",
       "energy           -10.906705   1.887625e-09\n",
       "instrumentalness  -2.587740   1.449832e-02\n",
       "liveness          -5.852998   7.386359e-06\n",
       "loudness           1.038017   1.101211e-36\n",
       "mode              -1.448762   2.987842e-03\n",
       "speechiness        0.673322   7.812130e-01\n",
       "tempo             -0.013219   7.482599e-02\n",
       "time_signature     0.166072   7.550759e-01\n",
       "valence           -8.030297   2.235078e-13\n",
       "key_A              3.045304   4.340746e-06\n",
       "key_Asharp         5.126469   5.114647e-10\n",
       "key_B              4.498215   1.030537e-08\n",
       "key_C              4.669136   8.578103e-14\n",
       "key_Csharp         5.598888   4.564473e-14\n",
       "key_D              2.184844   1.310645e-03\n",
       "key_Dsharp         5.296269   1.050603e-06\n",
       "key_E              4.442073   3.673552e-09\n",
       "key_F              3.864873   9.640060e-08\n",
       "key_Fsharp         7.589116   4.515792e-18\n",
       "key_G              1.843513   4.393665e-03\n",
       "key_Gsharp         3.795330   1.359320e-05"
      ]
     },
     "execution_count": 47,
     "metadata": {},
     "output_type": "execute_result"
    }
   ],
   "source": [
    "all_preds_table = pd.DataFrame(data=[fitted.params, fitted.pvalues]).T\n",
    "all_preds_table.columns = [\"coeff\", \"pvalue\"]\n",
    "all_preds_table"
   ]
  },
  {
   "cell_type": "code",
   "execution_count": 68,
   "metadata": {},
   "outputs": [],
   "source": [
    "pred_table = pd.DataFrame(data=dict(prediction=fitted.predict(data), popularity=data.popularity))"
   ]
  },
  {
   "cell_type": "code",
   "execution_count": 65,
   "metadata": {},
   "outputs": [
    {
     "data": {
      "text/plain": [
       "365.72229805853186"
      ]
     },
     "execution_count": 65,
     "metadata": {},
     "output_type": "execute_result"
    }
   ],
   "source": [
    "mse(pred_table.popularity, pred_table.prediction)"
   ]
  },
  {
   "cell_type": "markdown",
   "metadata": {},
   "source": [
    "## Plot correlation coeffs vs popularity"
   ]
  },
  {
   "cell_type": "code",
   "execution_count": 9,
   "metadata": {
    "scrolled": false
   },
   "outputs": [
    {
     "data": {
      "image/png": "[encoded data removed]",
      "text/plain": [
       "<matplotlib.figure.Figure at 0x11728cb10>"
      ]
     },
     "metadata": {},
     "output_type": "display_data"
    }
   ],
   "source": [
    "fig = plt.figure(figsize=(10, 10))\n",
    "# plt.scatter(data.speechiness, data.popularity)\n",
    "# plt.matshow(data.corr())\n",
    "pop_corr = data.corr()[\"popularity\"]\n",
    "pop_corr = pop_corr.copy(deep=True)\n",
    "pop_corr.sort_values(inplace=True, ascending=False)\n",
    "plt.bar(range(len(pop_corr.index)), pop_corr.values)\n",
    "xticks = plt.xticks(range(len(pop_corr.index)), pop_corr.index, rotation=70)\n",
    "plt.ylabel(\"popularity\")\n",
    "t = plt.title(\"Correlation coefficients of predictors relating to popularity\")\n",
    "plt.savefig(\"figs/corr_bar.png\")"
   ]
  },
  {
   "cell_type": "markdown",
   "metadata": {},
   "source": [
    "## Fitting regression on top postive corr vars and top negative corr vars (individually)"
   ]
  },
  {
   "cell_type": "code",
   "execution_count": 10,
   "metadata": {
    "collapsed": true
   },
   "outputs": [],
   "source": [
    "tops = [\"artist_followers\", \"loudness\", \"danceability\", \"energy\", \"key_Csharp\"]\n",
    "bottoms = [\"acousticness\", \"instrumentalness\", \"mode\", \"liveness\", \"key_G\"]\n",
    "\n",
    "top_table = dict()\n",
    "bot_table = dict()\n",
    "\n",
    "# tops first\n",
    "for t in tops:\n",
    "    fitted = sm.ols(formula=\"popularity ~ \" + t, data=data).fit()\n",
    "    coeff, pval = fitted.params[1], fitted.pvalues[1]\n",
    "    top_table[t] = [coeff, pval]\n",
    "    \n",
    "# now bottoms\n",
    "for b in bottoms:\n",
    "    fitted = sm.ols(formula=\"popularity ~ \" + b, data=data).fit()\n",
    "    coeff, pval = fitted.params[1], fitted.pvalues[1]\n",
    "    bot_table[b] = [coeff, pval]\n",
    "    \n",
    "top_table = pd.DataFrame(data=top_table).T\n",
    "top_table.columns = [\"coeff\", \"pvalue\"]\n",
    "bot_table = pd.DataFrame(data=bot_table).T\n",
    "bot_table.columns = [\"coeff\", \"pvalue\"]"
   ]
  },
  {
   "cell_type": "code",
   "execution_count": 11,
   "metadata": {},
   "outputs": [
    {
     "data": {
      "text/html": [
       "<div>\n",
       "<table border=\"1\" class=\"dataframe\">\n",
       "  <thead>\n",
       "    <tr style=\"text-align: right;\">\n",
       "      <th></th>\n",
       "      <th>coeff</th>\n",
       "      <th>pvalue</th>\n",
       "    </tr>\n",
       "  </thead>\n",
       "  <tbody>\n",
       "    <tr>\n",
       "      <th>artist_followers</th>\n",
       "      <td>0.000004</td>\n",
       "      <td>7.981461e-223</td>\n",
       "    </tr>\n",
       "    <tr>\n",
       "      <th>danceability</th>\n",
       "      <td>18.966368</td>\n",
       "      <td>1.681935e-40</td>\n",
       "    </tr>\n",
       "    <tr>\n",
       "      <th>energy</th>\n",
       "      <td>9.031304</td>\n",
       "      <td>4.592659e-22</td>\n",
       "    </tr>\n",
       "    <tr>\n",
       "      <th>key_Csharp</th>\n",
       "      <td>4.525527</td>\n",
       "      <td>5.162713e-08</td>\n",
       "    </tr>\n",
       "    <tr>\n",
       "      <th>loudness</th>\n",
       "      <td>1.077258</td>\n",
       "      <td>5.044759e-98</td>\n",
       "    </tr>\n",
       "  </tbody>\n",
       "</table>\n",
       "</div>"
      ],
      "text/plain": [
       "                      coeff         pvalue\n",
       "artist_followers   0.000004  7.981461e-223\n",
       "danceability      18.966368   1.681935e-40\n",
       "energy             9.031304   4.592659e-22\n",
       "key_Csharp         4.525527   5.162713e-08\n",
       "loudness           1.077258   5.044759e-98"
      ]
     },
     "execution_count": 11,
     "metadata": {},
     "output_type": "execute_result"
    }
   ],
   "source": [
    "top_table"
   ]
  },
  {
   "cell_type": "code",
   "execution_count": 13,
   "metadata": {},
   "outputs": [
    {
     "data": {
      "text/html": [
       "<div>\n",
       "<table border=\"1\" class=\"dataframe\">\n",
       "  <thead>\n",
       "    <tr style=\"text-align: right;\">\n",
       "      <th></th>\n",
       "      <th>coeff</th>\n",
       "      <th>pvalue</th>\n",
       "    </tr>\n",
       "  </thead>\n",
       "  <tbody>\n",
       "    <tr>\n",
       "      <th>artist_followers</th>\n",
       "      <td>0.000004</td>\n",
       "      <td>7.981461e-223</td>\n",
       "    </tr>\n",
       "    <tr>\n",
       "      <th>danceability</th>\n",
       "      <td>18.966368</td>\n",
       "      <td>1.681935e-40</td>\n",
       "    </tr>\n",
       "    <tr>\n",
       "      <th>energy</th>\n",
       "      <td>9.031304</td>\n",
       "      <td>4.592659e-22</td>\n",
       "    </tr>\n",
       "    <tr>\n",
       "      <th>key_Csharp</th>\n",
       "      <td>4.525527</td>\n",
       "      <td>5.162713e-08</td>\n",
       "    </tr>\n",
       "    <tr>\n",
       "      <th>loudness</th>\n",
       "      <td>1.077258</td>\n",
       "      <td>5.044759e-98</td>\n",
       "    </tr>\n",
       "    <tr>\n",
       "      <th>acousticness</th>\n",
       "      <td>-9.713727</td>\n",
       "      <td>4.685862e-42</td>\n",
       "    </tr>\n",
       "    <tr>\n",
       "      <th>instrumentalness</th>\n",
       "      <td>-11.927539</td>\n",
       "      <td>2.789444e-29</td>\n",
       "    </tr>\n",
       "    <tr>\n",
       "      <th>key_G</th>\n",
       "      <td>-3.543565</td>\n",
       "      <td>7.584568e-07</td>\n",
       "    </tr>\n",
       "    <tr>\n",
       "      <th>liveness</th>\n",
       "      <td>-7.913839</td>\n",
       "      <td>8.077932e-09</td>\n",
       "    </tr>\n",
       "    <tr>\n",
       "      <th>mode</th>\n",
       "      <td>-3.664818</td>\n",
       "      <td>5.461137e-13</td>\n",
       "    </tr>\n",
       "  </tbody>\n",
       "</table>\n",
       "</div>"
      ],
      "text/plain": [
       "                      coeff         pvalue\n",
       "artist_followers   0.000004  7.981461e-223\n",
       "danceability      18.966368   1.681935e-40\n",
       "energy             9.031304   4.592659e-22\n",
       "key_Csharp         4.525527   5.162713e-08\n",
       "loudness           1.077258   5.044759e-98\n",
       "acousticness      -9.713727   4.685862e-42\n",
       "instrumentalness -11.927539   2.789444e-29\n",
       "key_G             -3.543565   7.584568e-07\n",
       "liveness          -7.913839   8.077932e-09\n",
       "mode              -3.664818   5.461137e-13"
      ]
     },
     "execution_count": 13,
     "metadata": {},
     "output_type": "execute_result"
    }
   ],
   "source": [
    "bot_table\n",
    "pd.concat([top_table, bot_table])"
   ]
  },
  {
   "cell_type": "markdown",
   "metadata": {},
   "source": [
    "## Running a multiple linear regression for each partition"
   ]
  },
  {
   "cell_type": "code",
   "execution_count": 27,
   "metadata": {},
   "outputs": [
    {
     "data": {
      "text/html": [
       "<div>\n",
       "<table border=\"1\" class=\"dataframe\">\n",
       "  <thead>\n",
       "    <tr style=\"text-align: right;\">\n",
       "      <th></th>\n",
       "      <th>coeff</th>\n",
       "      <th>pvalue</th>\n",
       "    </tr>\n",
       "  </thead>\n",
       "  <tbody>\n",
       "    <tr>\n",
       "      <th>artist_followers</th>\n",
       "      <td>0.000003</td>\n",
       "      <td>6.870911e-176</td>\n",
       "    </tr>\n",
       "    <tr>\n",
       "      <th>loudness</th>\n",
       "      <td>1.236665</td>\n",
       "      <td>2.649535e-58</td>\n",
       "    </tr>\n",
       "    <tr>\n",
       "      <th>danceability</th>\n",
       "      <td>12.331949</td>\n",
       "      <td>3.108602e-20</td>\n",
       "    </tr>\n",
       "    <tr>\n",
       "      <th>energy</th>\n",
       "      <td>-11.872530</td>\n",
       "      <td>1.647739e-18</td>\n",
       "    </tr>\n",
       "    <tr>\n",
       "      <th>key_Csharp</th>\n",
       "      <td>2.112484</td>\n",
       "      <td>5.868507e-03</td>\n",
       "    </tr>\n",
       "    <tr>\n",
       "      <th>acousticness</th>\n",
       "      <td>-8.650842</td>\n",
       "      <td>2.140468e-33</td>\n",
       "    </tr>\n",
       "    <tr>\n",
       "      <th>instrumentalness</th>\n",
       "      <td>-10.795340</td>\n",
       "      <td>1.240683e-24</td>\n",
       "    </tr>\n",
       "    <tr>\n",
       "      <th>mode</th>\n",
       "      <td>-2.907516</td>\n",
       "      <td>8.362286e-09</td>\n",
       "    </tr>\n",
       "    <tr>\n",
       "      <th>liveness</th>\n",
       "      <td>-9.493790</td>\n",
       "      <td>1.904590e-12</td>\n",
       "    </tr>\n",
       "    <tr>\n",
       "      <th>key_G</th>\n",
       "      <td>-2.966781</td>\n",
       "      <td>2.537528e-05</td>\n",
       "    </tr>\n",
       "  </tbody>\n",
       "</table>\n",
       "</div>"
      ],
      "text/plain": [
       "                      coeff         pvalue\n",
       "artist_followers   0.000003  6.870911e-176\n",
       "loudness           1.236665   2.649535e-58\n",
       "danceability      12.331949   3.108602e-20\n",
       "energy           -11.872530   1.647739e-18\n",
       "key_Csharp         2.112484   5.868507e-03\n",
       "acousticness      -8.650842   2.140468e-33\n",
       "instrumentalness -10.795340   1.240683e-24\n",
       "mode              -2.907516   8.362286e-09\n",
       "liveness          -9.493790   1.904590e-12\n",
       "key_G             -2.966781   2.537528e-05"
      ]
     },
     "execution_count": 27,
     "metadata": {},
     "output_type": "execute_result"
    }
   ],
   "source": [
    "# tops \n",
    "fitted = sm.ols(formula=\"popularity ~ \" + \"+\".join(tops), data=data).fit()\n",
    "fitted.summary()\n",
    "tops_multiple_regression = pd.DataFrame(data=[fitted.params, fitted.pvalues]).T\n",
    "tops_multiple_regression.columns = [\"coeff\", \"pvalue\"]\n",
    "\n",
    "# bottoms \n",
    "fitted = sm.ols(formula=\"popularity ~ \" + \"+\".join(bottoms), data=data).fit()\n",
    "fitted.summary()\n",
    "bottom_multiple_regression = pd.DataFrame(data=[fitted.params, fitted.pvalues]).T\n",
    "bottom_multiple_regression.columns = [\"coeff\", \"pvalue\"]\n",
    "multiple_regression_parts = pd.concat([tops_multiple_regression, bottom_multiple_regression]).drop(\"Intercept\")\n",
    "\n",
    "multiple_regression_parts"
   ]
  },
  {
   "cell_type": "code",
   "execution_count": null,
   "metadata": {},
   "outputs": [],
   "source": []
  },
  {
   "cell_type": "code",
   "execution_count": null,
   "metadata": {
    "collapsed": true
   },
   "outputs": [],
   "source": []
  }
 ],
 "metadata": {
  "anaconda-cloud": {},
  "kernelspec": {
   "display_name": "Python [conda root]",
   "language": "python",
   "name": "conda-root-py"
  },
  "language_info": {
   "codemirror_mode": {
    "name": "ipython",
    "version": 2
   },
   "file_extension": ".py",
   "mimetype": "text/x-python",
   "name": "python",
   "nbconvert_exporter": "python",
   "pygments_lexer": "ipython2",
   "version": "2.7.13"
  }
 },
 "nbformat": 4,
 "nbformat_minor": 2
}
